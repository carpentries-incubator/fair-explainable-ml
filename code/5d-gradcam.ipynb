{
 "cells": [
  {
   "cell_type": "markdown",
   "id": "2100f187",
   "metadata": {},
   "source": [
    "# Explainability methods: GradCAM"
   ]
  },
  {
   "cell_type": "markdown",
   "id": "75471ec5",
   "metadata": {},
   "source": [
    ":::::::::::::::::::::::::::::::::::::: questions \n",
    "\n",
    "- TODO\n",
    "\n",
    "::::::::::::::::::::::::::::::::::::::::::::::::\n",
    "\n",
    "::::::::::::::::::::::::::::::::::::: objectives\n",
    "\n",
    "- TODO\n",
    "\n",
    "::::::::::::::::::::::::::::::::::::::::::::::::"
   ]
  },
  {
   "cell_type": "code",
   "execution_count": null,
   "id": "3fd5f019",
   "metadata": {},
   "outputs": [],
   "source": [
    "# Let's begin by installing the grad-cam package - this will significantly simplify our implementation\n",
    "!pip install grad-cam"
   ]
  },
  {
   "cell_type": "code",
   "execution_count": null,
   "id": "0e19cdc1",
   "metadata": {},
   "outputs": [],
   "source": [
    "# Packages to download test images\n",
    "import requests\n",
    "\n",
    "# Packages to view and process images\n",
    "import cv2\n",
    "import numpy as np\n",
    "from PIL import Image\n",
    "from google.colab.patches import cv2_imshow\n",
    "\n",
    "# Packages to load the model\n",
    "import torch\n",
    "from torchvision.models import resnet50\n",
    "\n",
    "# GradCAM Packaes\n",
    "from pytorch_grad_cam import GradCAM\n",
    "from pytorch_grad_cam.utils.model_targets import ClassifierOutputTarget\n",
    "from pytorch_grad_cam.utils.image import show_cam_on_image, preprocess_image"
   ]
  },
  {
   "cell_type": "code",
   "execution_count": null,
   "id": "66215f28",
   "metadata": {},
   "outputs": [],
   "source": [
    "device = 'gpu' if torch.cuda.is_available() else 'cpu'"
   ]
  },
  {
   "cell_type": "markdown",
   "id": "1cf9ba5c",
   "metadata": {},
   "source": [
    "##### Load Model\n",
    "\n",
    "We'll load the ResNet-50 model from torchvision. This model is pre-trained on the ImageNet dataset, which contains 1.2 million images across 1000 classes.\n",
    "ResNet-50 is popular model that is a type of convolutional neural network. You can learn more about it here: https://pytorch.org/hub/pytorch_vision_resnet/"
   ]
  },
  {
   "cell_type": "code",
   "execution_count": null,
   "id": "0535ef84",
   "metadata": {},
   "outputs": [],
   "source": [
    "model = resnet50(pretrained=True).to(device).eval()"
   ]
  },
  {
   "cell_type": "markdown",
   "id": "a295513e",
   "metadata": {},
   "source": [
    "##### Load Test Image"
   ]
  },
  {
   "cell_type": "code",
   "execution_count": null,
   "id": "f4580aed",
   "metadata": {},
   "outputs": [],
   "source": [
    "# Let's first take a look at the image, which we source from the GradCAM package\n",
    "\n",
    "url = \"https://raw.githubusercontent.com/jacobgil/pytorch-grad-cam/master/examples/both.png\"\n",
    "Image.open(requests.get(url, stream=True).raw)"
   ]
  },
  {
   "cell_type": "code",
   "execution_count": null,
   "id": "b6f880ce",
   "metadata": {},
   "outputs": [],
   "source": [
    "# Cute, isn't it? Do you prefer dogs or cats?\n",
    "\n",
    "# We will need to convert the image into a tensor to feed it into the model.\n",
    "# Let's create a function to do this for us.\n",
    "def load_image(url):\n",
    "    rgb_img = np.array(Image.open(requests.get(url, stream=True).raw))\n",
    "    rgb_img = np.float32(rgb_img) / 255\n",
    "    input_tensor = preprocess_image(rgb_img).to(device)\n",
    "    return input_tensor, rgb_img"
   ]
  },
  {
   "cell_type": "code",
   "execution_count": null,
   "id": "39604f0b",
   "metadata": {},
   "outputs": [],
   "source": [
    "input_tensor, rgb_image = load_image(url)"
   ]
  },
  {
   "cell_type": "markdown",
   "id": "3ea98e40",
   "metadata": {},
   "source": [
    "### Grad-CAM Time!"
   ]
  },
  {
   "cell_type": "code",
   "execution_count": null,
   "id": "28988373",
   "metadata": {},
   "outputs": [],
   "source": [
    "# Let's start by selecting which layers of the model we want to use to generate the CAM.\n",
    "# For that, we will need to inspect the model architecture.\n",
    "# We can do that by simply printing the model object.\n",
    "print(model)"
   ]
  },
  {
   "cell_type": "markdown",
   "id": "b203ca69",
   "metadata": {},
   "source": [
    "Here we want to interpret what the model as a whole is doing (not what a specific layer is doing).\n",
    "That means that we want to use the embeddings of the last layer before the final classification layer.\n",
    "This is the layer that contains the information about the image encoded by the model as a whole.\n",
    "\n",
    "Looking at the model, we can see that the last layer before the final classification layer is `layer4`."
   ]
  },
  {
   "cell_type": "code",
   "execution_count": null,
   "id": "4f6ff250",
   "metadata": {},
   "outputs": [],
   "source": [
    "target_layers = [model.layer4]"
   ]
  },
  {
   "cell_type": "markdown",
   "id": "f38711b7",
   "metadata": {},
   "source": [
    "We also want to pick a label for the CAM - this is the class we want to visualize the activation for.\n",
    "Essentially, we want to see what the model is looking at when it is predicting a certain class.\n",
    "\n",
    "Since ResNet was trained on the ImageNet dataset with 1000 classes, let's get an indexed list of those classes. We can then pick the index of the class we want to visualize."
   ]
  },
  {
   "cell_type": "code",
   "execution_count": null,
   "id": "b74179b1",
   "metadata": {},
   "outputs": [],
   "source": [
    "imagenet_categories_url = \\\n",
    "     \"https://gist.githubusercontent.com/yrevar/942d3a0ac09ec9e5eb3a/raw/238f720ff059c1f82f368259d1ca4ffa5dd8f9f5/imagenet1000_clsidx_to_labels.txt\"\n",
    "labels = eval(requests.get(imagenet_categories_url).text)\n",
    "labels"
   ]
  },
  {
   "cell_type": "markdown",
   "id": "0dc504a7",
   "metadata": {},
   "source": [
    "Well, that's a lot! To simplify things, we have already picked out the indices of a few interesting classes.\n",
    "\n",
    "- 157: Siberian Husky\n",
    "- 162: Beagle\n",
    "- 245: French Bulldog\n",
    "- 281: Tabby Cat\n",
    "- 285: Egyptian cat\n",
    "- 360: Otter\n",
    "- 537: Dog Sleigh\n",
    "- 799: Sliding Door\n",
    "- 918: Street Sign"
   ]
  },
  {
   "cell_type": "code",
   "execution_count": null,
   "id": "9a556986",
   "metadata": {},
   "outputs": [],
   "source": [
    "# Specify the target class for visualization here. If you set this to None, the class with the highest score from the model will automatically be used.\n",
    "visualized_class_id = 245"
   ]
  },
  {
   "cell_type": "code",
   "execution_count": null,
   "id": "ef9e892d",
   "metadata": {},
   "outputs": [],
   "source": [
    "def viz_gradcam(model, target_layers, class_id):\n",
    "\n",
    "  if class_id is None:\n",
    "    targets = None\n",
    "  else:\n",
    "    targets = [ClassifierOutputTarget(class_id)]\n",
    "\n",
    "  cam_algorithm = GradCAM\n",
    "  with cam_algorithm(model=model, target_layers=target_layers) as cam:\n",
    "      grayscale_cam = cam(input_tensor=input_tensor,\n",
    "                          targets=targets)\n",
    "\n",
    "      grayscale_cam = grayscale_cam[0, :]\n",
    "\n",
    "      cam_image = show_cam_on_image(rgb_image, grayscale_cam, use_rgb=True)\n",
    "      cam_image = cv2.cvtColor(cam_image, cv2.COLOR_RGB2BGR)\n",
    "\n",
    "  cv2_imshow(cam_image)"
   ]
  },
  {
   "cell_type": "markdown",
   "id": "3fc9950d",
   "metadata": {},
   "source": [
    "Finally, we can start visualizing! Let's begin by seeing what parts of the image the model looks at to make its most confident prediction."
   ]
  },
  {
   "cell_type": "code",
   "execution_count": null,
   "id": "47afa122",
   "metadata": {},
   "outputs": [],
   "source": [
    "viz_gradcam(model=model, target_layers=target_layers, class_id=None)"
   ]
  },
  {
   "cell_type": "markdown",
   "id": "927c61d1",
   "metadata": {},
   "source": [
    "Interesting, it looks like the model totally ignores the cat and makes a prediction based on the dog.\n",
    "If we set the output class to \"French Bulldog\" (`class_id=245`), we see the same visualization - meaning that the model is indeed looking at the correct part of the image to make the correct prediction.\n",
    "\n",
    "Let's see what the heatmap looks like when we force the model to look at the cat."
   ]
  },
  {
   "cell_type": "code",
   "execution_count": null,
   "id": "2fe8f7ab",
   "metadata": {},
   "outputs": [],
   "source": [
    "viz_gradcam(model=model, target_layers=target_layers, class_id=281)"
   ]
  },
  {
   "cell_type": "markdown",
   "id": "8d85ede7",
   "metadata": {},
   "source": [
    "The model is indeed looking at the cat when asked to predict the class \"Tabby Cat\" (`class_id=281`)!\n",
    "But why is it still predicting the dog? Well, the model was trained on the ImageNet dataset, which contains a lot of images of dogs and cats.\n",
    "The model has learned that the dog is a better indicator of the class \"Tabby Cat\" than the cat itself.\n",
    "\n",
    "Let's see another example of this. The image has not only a dog and a cat, but also a items in the background. Can the model correctly identify the door?"
   ]
  },
  {
   "cell_type": "code",
   "execution_count": null,
   "id": "a5eaab5d",
   "metadata": {},
   "outputs": [],
   "source": [
    "viz_gradcam(model=model, target_layers=target_layers, class_id=799)"
   ]
  },
  {
   "cell_type": "markdown",
   "id": "c427626b",
   "metadata": {},
   "source": [
    "It can! However, it seems to also think of the shelf behind the dog as a door.\n",
    "\n",
    "Let's try an unrelated object now. Where in the image does the model see a street sign?"
   ]
  },
  {
   "cell_type": "code",
   "execution_count": null,
   "id": "ff38c4d7",
   "metadata": {},
   "outputs": [],
   "source": [
    "viz_gradcam(model=model, target_layers=target_layers, class_id=918)"
   ]
  },
  {
   "cell_type": "markdown",
   "id": "6db312f2",
   "metadata": {},
   "source": [
    "Looks like our analysis has revealed a shortcoming of the model! It seems to percieve cats and street signs similarly.\n",
    "\n",
    "Ideally, when the target class is some unrelated object, a good model will look at no significant part of the image. For example, the model does a good job with the class for Dog Sleigh."
   ]
  },
  {
   "cell_type": "code",
   "execution_count": null,
   "id": "65a0f812",
   "metadata": {},
   "outputs": [],
   "source": [
    "viz_gradcam(model=model, target_layers=target_layers, class_id=537)"
   ]
  },
  {
   "cell_type": "markdown",
   "id": "1a0381d8",
   "metadata": {},
   "source": [
    "Explaining model predictions though visualization techniques like this can be very subjective and prone to error. However, this still provides some degree of insight a completely black box model would not provide.\n",
    "\n",
    "Spend some time playing around with different classes and seeing which part of the image the model looks at. Feel free to play around with other base images as well. Have fun!"
   ]
  }
 ],
 "metadata": {},
 "nbformat": 4,
 "nbformat_minor": 5
}
