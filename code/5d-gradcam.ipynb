{
 "cells": [
  {
   "cell_type": "markdown",
   "id": "73e5583d",
   "metadata": {},
   "source": [
    "# Explainability methods: GradCAM"
   ]
  },
  {
   "cell_type": "markdown",
   "id": "f9d81bb5",
   "metadata": {},
   "source": [
    ":::::::::::::::::::::::::::::::::::::: questions \n",
    "- How can we identify which parts of an input contribute most to a model’s prediction?  \n",
    "- What insights can saliency maps, GradCAM, and similar techniques provide about model behavior?  \n",
    "- What are the strengths and limitations of gradient-based explainability methods?  \n",
    "\n",
    "::::::::::::::::::::::::::::::::::::::::::::::::\n",
    "\n",
    "::::::::::::::::::::::::::::::::::::: objectives\n",
    "\n",
    "- Explain how saliency maps and GradCAM work and their applications in understanding model predictions.  \n",
    "- Introduce GradCAM as a method to visualize the important features used by a model.  \n",
    "- Gain familiarity with the PyTorch and GradCam libraries for vision models. \n",
    "::::::::::::::::::::::::::::::::::::::::::::::::\n",
    "\n",
    "## What part of my input causes this prediction?\n",
    "\n",
    "When a model makes a prediction, we often want to know which parts of the input were most important in generating that prediction.\n",
    "This helps confirm if the model is making its predictions for the right reasons. \n",
    "Sometimes, models use features totally unrelated to the task for their prediction - these are known as 'spurious correlations'.\n",
    "For example, a model might predict that a picture contains a dog because it was taken in a park, and not because there is actually a dog in the picture.\n",
    "\n",
    "**[Saliency Maps](https://arxiv.org/abs/1312.6034)** are among the most simple and popular methods used towards this end. \n",
    "We will be working with a more sophisticated version of this method, known as **[GradCAM](https://arxiv.org/abs/1610.02391)**.\n",
    "\n",
    "#### Method and Examples\n",
    "\n",
    "A saliency map is a kind of visualization - it is a heatmap across the input that shows which parts of the input are most important in generating the model's prediction.\n",
    "They can be calculated using the gradients of a neural network, or by perturbing the input to any ML model and observing how the model reacts to these perturbations.\n",
    "The key intuition is that if a small change in a part of the input causes a large change in the model's prediction, then that part of the input is important for the prediction.\n",
    "Gradients are useful in this because they provide a signal towards how much the model's prediction would change if the input was changed slightly.\n",
    "\n",
    "For example, in an image classification task, a saliency map can be used to highlight the parts of the image that the model is focusing on to make its prediction.\n",
    "In a text classification task, a saliency map can be used to highlight the words or phrases that are most important for the model's prediction.\n",
    "\n",
    "GradCAM is an extension of this idea, which uses the gradients of the final layer of a convolutional neural network to generate a heatmap that highlights the important regions of an image.\n",
    "This heatmap can be overlaid on the original image to visualize which parts of the image are most important for the model's prediction.\n",
    "\n",
    "Other variants of this method include [Integrated Gradients](https://arxiv.org/abs/1703.01365), [SmoothGrad](https://arxiv.org/pdf/1806.03000), and others, which are designed to provide more robust and reliable explanations for model predictions.\n",
    "However, GradCAM is a good starting point for understanding how saliency maps work, and is a popularly used approach.\n",
    "\n",
    "Alternative approaches, which may not directly generate heatmaps, include [LIME](https://arxiv.org/abs/1602.04938) and [SHAP](https://arxiv.org/abs/1705.07874), which are also popular and recommended for further reading. \n",
    "\n",
    "#### Limitations and Extensions\n",
    "\n",
    "Gradient based saliency methods like GradCam are fast to compute, requiring only a handful of backpropagation steps on the model to generate the heatmap.\n",
    "The method is also model-agnostic, meaning it can be applied to any model that can be trained using gradient descent.\n",
    "Additionally, the results obtained from these methods are intuitive and easy to understand, making them useful for explaining model predictions to non-experts.\n",
    "\n",
    "However, their use is limited to models that can be trained using gradient descent, and have white-box access. \n",
    "It is also difficult to apply these methods to tasks beyond classification, making their application limited with many recent\n",
    "generative models (think LLMs).\n",
    "\n",
    "Another limitation is that the insights gained from these methods are not actionable - knowing which part of the input caused the prediction does not highlight why that part caused it.\n",
    "On finding issues in the prediction process, it is also hard to pick up on if there is an underlying issue in the model, or just the specific inputs tested on.\n",
    "\n",
    "\n",
    "## Implementing GradCAM"
   ]
  },
  {
   "cell_type": "code",
   "execution_count": null,
   "id": "3bf1f402",
   "metadata": {},
   "outputs": [],
   "source": [
    "device = 'cpu' # we're using the CPU only version of this workshop"
   ]
  },
  {
   "cell_type": "markdown",
   "id": "592ebd6d",
   "metadata": {},
   "source": [
    "##### Load Model\n",
    "\n",
    "We'll load the ResNet-50 model from torchvision. This model is pre-trained on the ImageNet dataset, which contains 1.2 million images across 1000 classes.\n",
    "ResNet-50 is popular model that is a type of convolutional neural network. You can learn more about it here: https://pytorch.org/hub/pytorch_vision_resnet/"
   ]
  },
  {
   "cell_type": "code",
   "execution_count": null,
   "id": "eb62840d",
   "metadata": {},
   "outputs": [],
   "source": [
    "from torchvision.models import resnet50\n",
    "\n",
    "model = resnet50(pretrained=True).to(device).eval() # set to evaluation/inference mode (rather than training)"
   ]
  },
  {
   "cell_type": "markdown",
   "id": "8e0cb132",
   "metadata": {},
   "source": [
    "##### Load Test Image\n",
    "Let's first take a look at the image, which we source from the GradCAM package"
   ]
  },
  {
   "cell_type": "code",
   "execution_count": null,
   "id": "c9f505ff",
   "metadata": {},
   "outputs": [],
   "source": [
    "# Packages to download images\n",
    "import requests\n",
    "from PIL import Image\n",
    "\n",
    "url = \"https://raw.githubusercontent.com/jacobgil/pytorch-grad-cam/master/examples/both.png\"\n",
    "Image.open(requests.get(url, stream=True).raw)"
   ]
  },
  {
   "cell_type": "markdown",
   "id": "20f0810e",
   "metadata": {},
   "source": [
    "Cute, isn't it? Do you prefer dogs or cats?\n",
    "\n",
    "We will need to convert the image into a tensor to feed it into the model.\n",
    "Let's create a function to do this for us.\n",
    "\n",
    "**ML reminder:** A tensor is a mathematical object that can be thought of as a generalization of scalars, vectors, and matrices.\n",
    "Tensors have a rank (or order), which determines their dimensionality:\n",
    "\n",
    "* Rank 0: Scalar (a single number, e.g., 5)\n",
    "* Rank 1: Vector (a 1-dimensional array, e.g., [1, 2, 3])\n",
    "* Rank 2: Matrix (a 2-dimensional array, e.g., [[1, 2], [3, 4]])\n",
    "* Rank ≥ 3: Higher-dimensional tensors (e.g., a 3D tensor for images, a 4D tensor for batch processing, etc.)"
   ]
  },
  {
   "cell_type": "code",
   "execution_count": null,
   "id": "d312b203",
   "metadata": {},
   "outputs": [],
   "source": [
    "import numpy as np\n",
    "from pytorch_grad_cam.utils.image import show_cam_on_image, preprocess_image\n",
    "\n",
    "def load_image(url):\n",
    "    rgb_img = np.array(Image.open(requests.get(url, stream=True).raw))\n",
    "    rgb_img = np.float32(rgb_img) / 255\n",
    "    input_tensor = preprocess_image(rgb_img).to(device)\n",
    "    return input_tensor, rgb_img"
   ]
  },
  {
   "cell_type": "code",
   "execution_count": null,
   "id": "6d795db2",
   "metadata": {},
   "outputs": [],
   "source": [
    "input_tensor, rgb_image = load_image(url)"
   ]
  },
  {
   "cell_type": "markdown",
   "id": "13a94e04",
   "metadata": {},
   "source": [
    "### Grad-CAM Time!\n",
    "Let's start by selecting which layers of the model we want to use to generate the CAM.\n",
    "For that, we will need to inspect the model architecture.\n",
    "We can do that by simply printing the model object."
   ]
  },
  {
   "cell_type": "code",
   "execution_count": null,
   "id": "306779d8",
   "metadata": {},
   "outputs": [],
   "source": [
    "print(model)"
   ]
  },
  {
   "cell_type": "markdown",
   "id": "fcf5aa6e",
   "metadata": {},
   "source": [
    "Here we want to interpret what the model as a whole is doing (not what a specific layer is doing).\n",
    "That means that we want to use the embeddings of the last layer before the final classification layer.\n",
    "This is the layer that contains the information about the image encoded by the model as a whole.\n",
    "\n",
    "Looking at the model, we can see that the last layer before the final classification layer is `layer4`, bottleneck (2), conv3. We can grab this last convolutional layer with the following code"
   ]
  },
  {
   "cell_type": "code",
   "execution_count": null,
   "id": "6d3a9cb8",
   "metadata": {},
   "outputs": [],
   "source": [
    "target_layers = [model.layer4[-1].conv3]\n",
    "target_layers = [model.layer4]"
   ]
  },
  {
   "cell_type": "markdown",
   "id": "353559dd",
   "metadata": {},
   "source": [
    "We also want to pick a label for the CAM - this is the class we want to visualize the activation for.\n",
    "Essentially, we want to see what the model is looking at when it is predicting a certain class.\n",
    "\n",
    "Since ResNet was trained on the ImageNet dataset with 1000 classes, let's get an indexed list of those classes. We can then pick the index of the class we want to visualize."
   ]
  },
  {
   "cell_type": "code",
   "execution_count": null,
   "id": "d4d9f325",
   "metadata": {
    "scrolled": true
   },
   "outputs": [],
   "source": [
    "imagenet_categories_url = \\\n",
    "     \"https://gist.githubusercontent.com/yrevar/942d3a0ac09ec9e5eb3a/raw/238f720ff059c1f82f368259d1ca4ffa5dd8f9f5/imagenet1000_clsidx_to_labels.txt\"\n",
    "labels = eval(requests.get(imagenet_categories_url).text)\n",
    "labels"
   ]
  },
  {
   "cell_type": "markdown",
   "id": "9013c423",
   "metadata": {},
   "source": [
    "Well, that's a lot! To simplify things, we have already picked out the indices of a few interesting classes.\n",
    "\n",
    "- 157: Siberian Husky\n",
    "- 162: Beagle\n",
    "- 245: French Bulldog\n",
    "- 281: Tabby Cat\n",
    "- 285: Egyptian cat\n",
    "- 360: Otter\n",
    "- 537: Dog Sleigh\n",
    "- 799: Sliding Door\n",
    "- 918: Street Sign"
   ]
  },
  {
   "cell_type": "code",
   "execution_count": null,
   "id": "88da62b5",
   "metadata": {},
   "outputs": [],
   "source": [
    "# Specify the target class for visualization here. If you set this to None, the class with the highest score from the model will automatically be used.\n",
    "visualized_class_id = 245"
   ]
  },
  {
   "cell_type": "code",
   "execution_count": null,
   "id": "3426a187",
   "metadata": {},
   "outputs": [],
   "source": [
    "import matplotlib.pyplot as plt\n",
    "import cv2\n",
    "import torch\n",
    "from pytorch_grad_cam import GradCAM\n",
    "from pytorch_grad_cam.utils.image import show_cam_on_image\n",
    "from pytorch_grad_cam.utils.model_targets import ClassifierOutputTarget\n",
    "\n",
    "def viz_gradcam(model, target_layers, class_id, input_tensor, rgb_image):\n",
    "    \"\"\"\n",
    "    Visualize Grad-CAM heatmaps for a given model and target class.\n",
    "\n",
    "    Parameters:\n",
    "    1. model (torch.nn.Module): The neural network model.\n",
    "    2. target_layers (list): List of layers to compute Grad-CAM for (usually the last convolutional layer).\n",
    "    3. class_id (int or None): Target class ID for which Grad-CAM is computed. If None, the model's prediction is used.\n",
    "    4. input_tensor (torch.Tensor): The input image tensor expected by the model.\n",
    "    5. rgb_image (numpy.ndarray): The original input image in RGB format, scaled to [0, 1].\n",
    "\n",
    "    Returns:\n",
    "    None. Displays a Grad-CAM heatmap over the input image.\n",
    "    \"\"\"\n",
    "\n",
    "    # Step 1: Get predicted class if class_id is not specified\n",
    "    if class_id is None:\n",
    "        with torch.no_grad():  # Disable gradient computation for efficiency (not needed for inference)\n",
    "            outputs = model(input_tensor)  # Run the input image through the model to get output scores\n",
    "            \n",
    "            # torch.argmax finds the index of the maximum value in the output tensor.\n",
    "            # dim=1 indicates we are finding the maximum value **along the class dimension** \n",
    "            # (assuming the shape of outputs is [batch_size, num_classes]).\n",
    "            predicted_class = torch.argmax(outputs, dim=1).item()  # Extract the top class index.\n",
    "            \n",
    "            # .item() converts the PyTorch scalar tensor to a Python integer (e.g., tensor(245) -> 245).\n",
    "            # This is necessary for further operations like accessing the class label from a list.\n",
    "            print(f\"Predicted Class: {labels[predicted_class]} ({predicted_class})\")  # Print the predicted label\n",
    "            \n",
    "            # Define the target for Grad-CAM visualization.\n",
    "            # ClassifierOutputTarget wraps the target class for Grad-CAM to calculate activations.\n",
    "            targets = [ClassifierOutputTarget(predicted_class)]\n",
    "    else:\n",
    "        # If a specific class_id is provided, use it directly.\n",
    "        print(f\"Target Class: {labels[class_id]} ({class_id})\")\n",
    "        targets = [ClassifierOutputTarget(class_id)]\n",
    "    \n",
    "    # Step 2: Select the Grad-CAM algorithm.\n",
    "    # Here, we use GradCAM, but this can be swapped for other algorithms like GradCAM++.\n",
    "    cam_algorithm = GradCAM\n",
    "\n",
    "    # Step 3: Initialize the Grad-CAM object.\n",
    "    # This links the model and the target layers where Grad-CAM will compute the gradients.\n",
    "    cam = cam_algorithm(model=model, target_layers=target_layers)\n",
    "\n",
    "    # Step 4: Generate the Grad-CAM heatmap.\n",
    "    # - input_tensor: The input image tensor (preprocessed as required by the model).\n",
    "    # - targets: The target class for which we compute Grad-CAM (if None, model's prediction is used).\n",
    "    grayscale_cam = cam(input_tensor=input_tensor, targets=targets)\n",
    "\n",
    "    # Step 5: Extract the heatmap corresponding to the first input image.\n",
    "    # The result is [batch_size, height, width], so we select the first image: grayscale_cam[0, :].\n",
    "    grayscale_cam = grayscale_cam[0, :]\n",
    "\n",
    "    # Step 6: Overlay the Grad-CAM heatmap on the original input image.\n",
    "    # - show_cam_on_image: Combines the heatmap with the RGB image (values must be in [0, 1]).\n",
    "    cam_image = show_cam_on_image(rgb_image, grayscale_cam, use_rgb=True)\n",
    "\n",
    "    # Step 7: Convert the image from RGB to BGR (OpenCV's default format).\n",
    "    cam_image = cv2.cvtColor(cam_image, cv2.COLOR_RGB2BGR)\n",
    "\n",
    "    # Step 8: Display the Grad-CAM heatmap overlaid on the input image.\n",
    "    plt.imshow(cam_image)  # Show the image with the heatmap.\n",
    "    plt.axis(\"off\")       # Remove axes for cleaner visualization.\n",
    "    plt.show()             # Display the plot."
   ]
  },
  {
   "cell_type": "markdown",
   "id": "6aeaf538",
   "metadata": {},
   "source": [
    "Finally, we can start visualizing! Let's begin by seeing what parts of the image the model looks at to make its most confident prediction."
   ]
  },
  {
   "cell_type": "code",
   "execution_count": null,
   "id": "cd51d7f0",
   "metadata": {},
   "outputs": [],
   "source": [
    "viz_gradcam(model=model, target_layers=target_layers, class_id=None, input_tensor=input_tensor, rgb_image=rgb_image)"
   ]
  },
  {
   "cell_type": "markdown",
   "id": "ed476ab5",
   "metadata": {},
   "source": [
    "Interesting, it looks like the model totally ignores the cat and makes a prediction based on the dog.\n",
    "If we set the output class to \"French Bulldog\" (`class_id=245`), we see the same visualization - meaning that the model is indeed looking at the correct part of the image to make the correct prediction.\n"
   ]
  },
  {
   "cell_type": "code",
   "execution_count": null,
   "id": "471e7d95-3ce4-4cba-b5ff-28a6ff7bdab6",
   "metadata": {},
   "outputs": [],
   "source": [
    "viz_gradcam(model=model, target_layers=target_layers, class_id=245, input_tensor=input_tensor, rgb_image=rgb_image)"
   ]
  },
  {
   "cell_type": "markdown",
   "id": "4b4cbed3-3560-40b9-861a-6e51fa29da1f",
   "metadata": {},
   "source": [
    "Let's see what the heatmap looks like when we force the model to look at the cat."
   ]
  },
  {
   "cell_type": "code",
   "execution_count": null,
   "id": "17e9a19a",
   "metadata": {},
   "outputs": [],
   "source": [
    "viz_gradcam(model=model, target_layers=target_layers, class_id=281, input_tensor=input_tensor, rgb_image=rgb_image)"
   ]
  },
  {
   "cell_type": "markdown",
   "id": "76feee2e",
   "metadata": {},
   "source": [
    "The model is indeed looking at the cat when asked to predict the class “Tabby Cat” (class_id=281), as Grad-CAM highlights regions relevant to that class. However, the model may still predict the \"dog\" class overall because the dog's features dominate the output logits when no specific target class is specified.\n",
    "\n",
    "Let's see another example of this. The image has not only a dog and a cat, but also a items in the background. Can the model correctly identify the door?"
   ]
  },
  {
   "cell_type": "code",
   "execution_count": null,
   "id": "8d209919",
   "metadata": {},
   "outputs": [],
   "source": [
    "viz_gradcam(model=model, target_layers=target_layers, class_id=799, input_tensor=input_tensor, rgb_image=rgb_image)"
   ]
  },
  {
   "cell_type": "markdown",
   "id": "9046c900",
   "metadata": {},
   "source": [
    "It can! However, it seems to also think of the shelf behind the dog as a door.\n",
    "\n",
    "Let's try an unrelated object now. Where in the image does the model see a crossword puzzle?"
   ]
  },
  {
   "cell_type": "code",
   "execution_count": null,
   "id": "b441c55f",
   "metadata": {},
   "outputs": [],
   "source": [
    "viz_gradcam(model=model, target_layers=target_layers, class_id=918, input_tensor=input_tensor, rgb_image=rgb_image)"
   ]
  },
  {
   "cell_type": "markdown",
   "id": "11c525a6",
   "metadata": {},
   "source": [
    "Looks like our analysis has revealed a shortcoming of the model! It seems to percieve cats and street signs similarly.\n",
    "\n",
    "Ideally, when the target class is some unrelated object, a good model will look at no significant part of the image. For example, the model does a good job with the class for Dog Sleigh."
   ]
  },
  {
   "cell_type": "code",
   "execution_count": null,
   "id": "eee5f0f4",
   "metadata": {},
   "outputs": [],
   "source": [
    "viz_gradcam(model=model, target_layers=target_layers, class_id=542, input_tensor=input_tensor, rgb_image=rgb_image)"
   ]
  },
  {
   "cell_type": "markdown",
   "id": "93378403",
   "metadata": {},
   "source": [
    "Explaining model predictions though visualization techniques like this can be very subjective and prone to error. However, this still provides some degree of insight a completely black box model would not provide.\n",
    "\n",
    "Spend some time playing around with different classes and seeing which part of the image the model looks at. Feel free to play around with other base images as well. Have fun!"
   ]
  }
 ],
 "metadata": {
  "kernelspec": {
   "display_name": "trustworthy_ML",
   "language": "python",
   "name": "venv"
  },
  "language_info": {
   "codemirror_mode": {
    "name": "ipython",
    "version": 3
   },
   "file_extension": ".py",
   "mimetype": "text/x-python",
   "name": "python",
   "nbconvert_exporter": "python",
   "pygments_lexer": "ipython3",
   "version": "3.11.9"
  }
 },
 "nbformat": 4,
 "nbformat_minor": 5
}
