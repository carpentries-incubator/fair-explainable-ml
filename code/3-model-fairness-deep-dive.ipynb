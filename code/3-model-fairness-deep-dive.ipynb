{
 "cells": [
  {
   "cell_type": "markdown",
   "id": "d38f3973",
   "metadata": {},
   "source": [
    "# Model fairness: hands-on"
   ]
  },
  {
   "cell_type": "markdown",
   "id": "06672ffb",
   "metadata": {},
   "source": [
    ":::::::::::::::::::::::::::::::::::::: questions \n",
    "- How can we use AI Fairness 360 -- a common toolkit -- for measuring and improving model fairness? \n",
    "::::::::::::::::::::::::::::::::::::::::::::::::\n",
    "\n",
    "::::::::::::::::::::::::::::::::::::: objectives\n",
    "- Describe and implement two different ways of modifying the machine learning modeling process to improve the fairness of a model.\n",
    "::::::::::::::::::::::::::::::::::::::::::::::::\n",
    "\n",
    "\n",
    "\n",
    "---\n",
    "In this episode, we will explore, hands-on, how to measure and improve fairness of ML models.\n",
    "\n",
    "This notebook is adapted from AIF360's [Medical Expenditure Tutorial](https://github.com/Trusted-AI/AIF360/blob/master/examples/tutorial_medical_expenditure.ipynb).\n",
    "\n",
    "The tutorial uses data from the [Medical Expenditure Panel Survey](https://meps.ahrq.gov/mepsweb/). We include a short description of the data below. For more details, especially on the preprocessing, please see the AIF360 tutorial.\n",
    "\n",
    "To begin, we'll import some generally-useful packages."
   ]
  },
  {
   "cell_type": "code",
   "execution_count": null,
   "id": "6478e3d9",
   "metadata": {},
   "outputs": [],
   "source": [
    "# import numpy\n",
    "import numpy as np\n",
    "\n",
    "# import Markdown for nice display\n",
    "from IPython.display import Markdown, display\n",
    "\n",
    "# import matplotlib\n",
    "%matplotlib inline\n",
    "import matplotlib.pyplot as plt\n",
    "\n",
    "# import defaultdict (we'll use this instead of dict because it allows us to initialize a dictionary with a default value)\n",
    "from collections import defaultdict"
   ]
  },
  {
   "cell_type": "markdown",
   "id": "6bd00d02",
   "metadata": {},
   "source": [
    "## Scenario and data\n",
    "\n",
    "The goal is to develop a healthcare utilization scoring model -- i.e., to predict which patients will have the highest utilization of healthcare resources. \n",
    "\n",
    "The original dataset contains information about various types of medical visits; the AIF360 preprocessing created a single output feature 'UTILIZATION' that combines utilization across all visit types. Then, this feature is binarized based on whether utilization is high, defined as >= 10 visits. Around 17% of the dataset has high utilization. \n",
    "\n",
    "The sensitive feature (that we will base fairness scores on) is defined as race. Other predictors include demographics, health assessment data, past diagnoses, and physical/mental limitations. \n",
    "\n",
    "The data is divided into years (we follow the lead of AIF360's tutorial and use 2015), and further divided into Panels. We use Panel 19 (the first half of 2015).\n",
    "\n",
    "### Loading the data\n",
    "\n",
    "Before starting, make sure you have downloaded the data as described in the [setup instructions](https://carpentries-incubator.github.io/fair-explainable-ml/#download-and-move-the-data-needed). \n",
    "\n",
    "First, we need to import the dataset from the AI Fairness 360 library. Then, we can load in the data and create the train/validation/test splits.  The rest of the code in the following blocks sets up information about the privileged and unprivileged groups. (Recall, we focus on race as the sensitive feature.)"
   ]
  },
  {
   "cell_type": "code",
   "execution_count": null,
   "id": "ac10ae1e",
   "metadata": {},
   "outputs": [],
   "source": [
    "from aif360.datasets import MEPSDataset19 # import the dataset"
   ]
  },
  {
   "cell_type": "code",
   "execution_count": null,
   "id": "6b9132d0",
   "metadata": {},
   "outputs": [],
   "source": [
    "# assign train, validation, and test data. \n",
    "# Split the data into 50% train, 30% val, and 20% test\n",
    "(dataset_orig_panel19_train,\n",
    " dataset_orig_panel19_val,\n",
    " dataset_orig_panel19_test) = MEPSDataset19().split([0.5, 0.8], shuffle=True) \n",
    "\n",
    "sens_ind = 0 # sensitive attribute index is 0\n",
    "sens_attr = dataset_orig_panel19_train.protected_attribute_names[sens_ind] # sensitive attribute name\n",
    "\n",
    "# find the attribute values that correspond to the privileged and unprivileged groups\n",
    "unprivileged_groups = [{sens_attr: v} for v in\n",
    "                       dataset_orig_panel19_train.unprivileged_protected_attributes[sens_ind]]\n",
    "privileged_groups = [{sens_attr: v} for v in\n",
    "                     dataset_orig_panel19_train.privileged_protected_attributes[sens_ind]]"
   ]
  },
  {
   "cell_type": "markdown",
   "id": "5f3349fa",
   "metadata": {},
   "source": [
    "Check object type."
   ]
  },
  {
   "cell_type": "code",
   "execution_count": null,
   "id": "92062bb0",
   "metadata": {},
   "outputs": [],
   "source": [
    "type(dataset_orig_panel19_train)"
   ]
  },
  {
   "cell_type": "markdown",
   "id": "a7b31cbe",
   "metadata": {},
   "source": [
    "Preview data."
   ]
  },
  {
   "cell_type": "code",
   "execution_count": null,
   "id": "faa3ff9e",
   "metadata": {},
   "outputs": [],
   "source": [
    "dataset_orig_panel19_train.convert_to_dataframe()[0].head()"
   ]
  },
  {
   "cell_type": "markdown",
   "id": "33bd3e1d",
   "metadata": {},
   "source": [
    "Show details about the data."
   ]
  },
  {
   "cell_type": "code",
   "execution_count": null,
   "id": "0eb4f9c5",
   "metadata": {},
   "outputs": [],
   "source": [
    "def describe(train:MEPSDataset19=None, val:MEPSDataset19=None, test:MEPSDataset19=None) -> None:\n",
    "    '''\n",
    "        Print information about the test dataset (and train and validation dataset, if \n",
    "        provided). Prints the dataset shape, favorable and unfavorable labels, \n",
    "        protected attribute names, and feature names.\n",
    "    '''\n",
    "    if train is not None:\n",
    "        display(Markdown(\"#### Training Dataset shape\"))\n",
    "        print(train.features.shape) # print the shape of the training dataset - should be (7915, 138)\n",
    "    if val is not None:\n",
    "        display(Markdown(\"#### Validation Dataset shape\"))\n",
    "        print(val.features.shape)\n",
    "    display(Markdown(\"#### Test Dataset shape\"))\n",
    "    print(test.features.shape)\n",
    "    display(Markdown(\"#### Favorable and unfavorable labels\"))\n",
    "    print(test.favorable_label, test.unfavorable_label) # print favorable and unfavorable labels. Should be 1, 0\n",
    "    display(Markdown(\"#### Protected attribute names\"))\n",
    "    print(test.protected_attribute_names) # print protected attribute name, \"RACE\"\n",
    "    display(Markdown(\"#### Privileged and unprivileged protected attribute values\"))\n",
    "    print(test.privileged_protected_attributes, \n",
    "          test.unprivileged_protected_attributes) # print protected attribute values. Should be [1, 0]\n",
    "    display(Markdown(\"#### Dataset feature names\\n See [MEPS documentation](https://meps.ahrq.gov/data_stats/download_data/pufs/h181/h181doc.pdf) for details on the various features\"))\n",
    "    print(test.feature_names) # print feature names\n",
    "\n",
    "describe(dataset_orig_panel19_train, dataset_orig_panel19_val, dataset_orig_panel19_test) # call our function \"describe\""
   ]
  },
  {
   "cell_type": "markdown",
   "id": "ba5b1820",
   "metadata": {},
   "source": [
    "Next, we will look at whether the dataset contains bias; i.e., does the outcome 'UTILIZATION' take on a positive value more frequently for one racial group than another?\n",
    "\n",
    "To check for biases, we will use the BinaryLabelDatasetMetric class from the AI Fairness 360 toolkit. This class creates an object that -- given a dataset and user-defined sets of \"privileged\" and \"unprivileged\" groups -- can compute various fairness scores. We will call the function MetricTextExplainer (also in AI Fairness 360) on the BinaryLabelDatasetMetric object to compute the disparate impact. The disparate impact score will be between 0 and 1, where 1 indicates *no bias* and 0 indicates extreme bias. In other words, we want a score that is close to 1, because this indicates that different demographic groups have similar outcomes under the model. A commonly used threshold for an \"acceptable\" disparate impact score is 0.8, because under U.S. law in various domains (e.g., employment and housing), the disparate impact between racial groups can be no larger than 80%."
   ]
  },
  {
   "cell_type": "code",
   "execution_count": null,
   "id": "444e7e22",
   "metadata": {},
   "outputs": [],
   "source": [
    "# import MetricTextExplainer to be able to print descriptions of metrics\n",
    "from aif360.explainers import MetricTextExplainer"
   ]
  },
  {
   "cell_type": "markdown",
   "id": "a1b52994",
   "metadata": {},
   "source": [
    "Some initial import error may occur since we're using the CPU-only version of torch. If you run the import statement twice it should correct itself. We've coded this as a try/except statement below."
   ]
  },
  {
   "cell_type": "code",
   "execution_count": null,
   "id": "fea86d50",
   "metadata": {},
   "outputs": [],
   "source": [
    "# import BinaryLabelDatasetMetric (class of metrics) \n",
    "try:\n",
    "    from aif360.metrics import BinaryLabelDatasetMetric\n",
    "except OSError as e:\n",
    "    print(f\"First import failed: {e}. Retrying...\")\n",
    "    from aif360.metrics import BinaryLabelDatasetMetric\n",
    "\n",
    "print(\"Import successful!\")"
   ]
  },
  {
   "cell_type": "code",
   "execution_count": null,
   "id": "1512badd",
   "metadata": {},
   "outputs": [],
   "source": [
    "metric_orig_panel19_train = BinaryLabelDatasetMetric(\n",
    "        dataset_orig_panel19_train, # train data\n",
    "        unprivileged_groups=unprivileged_groups, # pass in names of unprivileged and privileged groups\n",
    "        privileged_groups=privileged_groups)\n",
    "explainer_orig_panel19_train = MetricTextExplainer(metric_orig_panel19_train) # create a MetricTextExplainer object\n",
    "\n",
    "print(explainer_orig_panel19_train.disparate_impact()) # print disparate impact"
   ]
  },
  {
   "cell_type": "markdown",
   "id": "053e83d2",
   "metadata": {},
   "source": [
    "We see that the disparate impact is about 0.53, which means the privileged group has the favorable outcome at about 2x the rate as the unprivileged group does. \n",
    "\n",
    "(In this case, the \"favorable\" outcome is label=1, i.e., high utilization)\n",
    "## Train a model\n",
    "\n",
    "We will train a logistic regression classifier. To do so, we have to import various functions from sklearn: a scaler, the logistic regression class, and make_pipeline."
   ]
  },
  {
   "cell_type": "code",
   "execution_count": null,
   "id": "517826a2",
   "metadata": {},
   "outputs": [],
   "source": [
    "from sklearn.preprocessing import StandardScaler\n",
    "from sklearn.linear_model import LogisticRegression\n",
    "from sklearn.pipeline import make_pipeline # allows to stack modeling steps\n",
    "from sklearn.pipeline import Pipeline # allow us to reference the Pipeline object type"
   ]
  },
  {
   "cell_type": "code",
   "execution_count": null,
   "id": "13db4586",
   "metadata": {},
   "outputs": [],
   "source": [
    "dataset = dataset_orig_panel19_train # use the train dataset\n",
    "model = make_pipeline(StandardScaler(), # scale the data to have mean 0 and variance 1\n",
    "                      LogisticRegression(solver='liblinear', \n",
    "                                         random_state=1) # logistic regression model\n",
    "                    )\n",
    "fit_params = {'logisticregression__sample_weight': dataset.instance_weights} # use the instance weights to fit the model\n",
    "\n",
    "lr_orig_panel19 = model.fit(dataset.features, dataset.labels.ravel(), **fit_params) # fit the model"
   ]
  },
  {
   "cell_type": "markdown",
   "id": "f9f73c0a",
   "metadata": {},
   "source": [
    "### Validate the model\n",
    "\n",
    "We want to validate the model -- that is, check that it has good accuracy and fairness when evaluated on the *validation* dataset. (By contrast, during training, we only optimize for accuracy and fairness on the training dataset.) \n",
    "\n",
    "Recall that a logistic regression model can output probabilities (i.e., `model.predict(dataset).scores`) and we can determine our own threshold for predicting class 0 or 1. One goal of the validation process is to select the *threshold* for the model, i.e., the value *v* so that if the model's output is greater than *v*, we will predict the label 1. \n",
    "\n",
    "The following function, `test`, computes performance on the logistic regression model based on a variety of thresholds, as indicated by `thresh_arr`, an array of threshold values. The threshold values we test are determined through the function `np.linspace`. We will continue to focus on disparate impact, but all other metrics are described in the [AIF360 documentation](https://aif360.readthedocs.io/en/stable/modules/generated/aif360.metrics.ClassificationMetric.html#aif360.metrics.ClassificationMetric)."
   ]
  },
  {
   "cell_type": "code",
   "execution_count": null,
   "id": "15fb1d66",
   "metadata": {},
   "outputs": [],
   "source": [
    "# Import the ClassificationMetric class to be able to compute metrics for the model\n",
    "from aif360.metrics import ClassificationMetric"
   ]
  },
  {
   "cell_type": "code",
   "execution_count": null,
   "id": "58985d89",
   "metadata": {},
   "outputs": [],
   "source": [
    "def test(dataset: MEPSDataset19, model:Pipeline, thresh_arr: np.ndarray) -> dict: \n",
    "    ''' \n",
    "        Given a dataset, model, and list of potential cutoff thresholds, compute various metrics\n",
    "        for the model. Returns a dictionary of the metrics, including balanced accuracy, average odds\n",
    "        difference, disparate impact, statistical parity difference, equal opportunity difference, and\n",
    "        theil index.\n",
    "    '''\n",
    "    try:\n",
    "        # sklearn classifier\n",
    "        y_val_pred_prob = model.predict_proba(dataset.features) # get the predicted probabilities\n",
    "    except AttributeError as e:\n",
    "        print(e)\n",
    "        # aif360 inprocessing algorithm\n",
    "        y_val_pred_prob = model.predict(dataset).scores # get the predicted scores\n",
    "        pos_ind = 0\n",
    "        \n",
    "    pos_ind = np.where(model.classes_ == dataset.favorable_label)[0][0] # get the index corresponding to the positive class\n",
    "    metric_arrs = defaultdict(list) # create a dictionary to store the metrics\n",
    "    \n",
    "    # repeat the following for each potential cutoff threshold\n",
    "    for thresh in thresh_arr:\n",
    "        y_val_pred = (y_val_pred_prob[:, pos_ind] > thresh).astype(np.float64) # get the predicted labels\n",
    "\n",
    "        dataset_pred = dataset.copy() # create a copy of the dataset\n",
    "        dataset_pred.labels = y_val_pred # assign the predicted labels to the new dataset\n",
    "        metric = ClassificationMetric( # create a ClassificationMetric object\n",
    "                dataset, dataset_pred,\n",
    "                unprivileged_groups=unprivileged_groups,\n",
    "                privileged_groups=privileged_groups)\n",
    "\n",
    "        # various metrics - can look up what they are on your own\n",
    "        metric_arrs['bal_acc'].append((metric.true_positive_rate()\n",
    "                                     + metric.true_negative_rate()) / 2) # balanced accuracy\n",
    "        metric_arrs['avg_odds_diff'].append(metric.average_odds_difference()) # average odds difference\n",
    "        metric_arrs['disp_imp'].append(metric.disparate_impact()) # disparate impact\n",
    "        metric_arrs['stat_par_diff'].append(metric.statistical_parity_difference()) # statistical parity difference\n",
    "        metric_arrs['eq_opp_diff'].append(metric.equal_opportunity_difference()) # equal opportunity difference\n",
    "        metric_arrs['theil_ind'].append(metric.theil_index()) # theil index\n",
    "    \n",
    "    return metric_arrs"
   ]
  },
  {
   "cell_type": "code",
   "execution_count": null,
   "id": "848fb10f",
   "metadata": {},
   "outputs": [],
   "source": [
    "thresh_arr = np.linspace(0.01, 0.5, 50) # create an array of 50 potential cutoff thresholds ranging from 0.01 to 0.5\n",
    "val_metrics = test(dataset=dataset_orig_panel19_val, \n",
    "                   model=lr_orig_panel19,\n",
    "                   thresh_arr=thresh_arr) # call our function \"test\" with the validation data and lr model\n",
    "lr_orig_best_ind = np.argmax(val_metrics['bal_acc']) # get the index of the best balanced accuracy"
   ]
  },
  {
   "cell_type": "markdown",
   "id": "f65affb1",
   "metadata": {},
   "source": [
    "We will plot `val_metrics`. The x-axis will be the threshold we use to output the label 1 (i.e., if the raw score is larger than the threshold, we output 1). \n",
    "\n",
    "The y-axis will show both balanced accuracy (in blue) and disparate impact (in red). \n",
    "\n",
    "Note that we plot 1 - Disparate Impact, so now a score of 0 indicates no bias."
   ]
  },
  {
   "cell_type": "code",
   "execution_count": null,
   "id": "9d88c4ab",
   "metadata": {},
   "outputs": [],
   "source": [
    "def plot(x:np.ndarray, x_name:str, y_left:np.ndarray, y_left_name:str, y_right:np.ndarray, y_right_name:str) -> None:\n",
    "    '''\n",
    "        Create a matplotlib plot with two y-axes and a single x-axis. \n",
    "    '''\n",
    "    fig, ax1 = plt.subplots(figsize=(10,7)) # create a figure and axis\n",
    "    ax1.plot(x, y_left) # plot the left y-axis data\n",
    "    ax1.set_xlabel(x_name, fontsize=16, fontweight='bold') # set the x-axis label\n",
    "    ax1.set_ylabel(y_left_name, color='b', fontsize=16, fontweight='bold')  # set the left y-axis label\n",
    "    ax1.xaxis.set_tick_params(labelsize=14) # set the x-axis tick label size\n",
    "    ax1.yaxis.set_tick_params(labelsize=14) # set the left y-axis tick label size\n",
    "    ax1.set_ylim(0.5, 0.8) # set the left y-axis limits\n",
    "\n",
    "    ax2 = ax1.twinx() # create a second y-axis that shares the same x-axis\n",
    "    ax2.plot(x, y_right, color='r') # plot the right y-axis data\n",
    "    ax2.set_ylabel(y_right_name, color='r', fontsize=16, fontweight='bold') # set the right y-axis label\n",
    "    if 'DI' in y_right_name: \n",
    "        ax2.set_ylim(0., 0.7) # set the right y-axis limits  if we're plotting disparate impact\n",
    "    else:\n",
    "        ax2.set_ylim(-0.25, 0.1)  # set the right y-axis limits if we're plotting 1-DI\n",
    "\n",
    "    best_ind = np.argmax(y_left) # get the index of the best balanced accuracy\n",
    "    ax2.axvline(np.array(x)[best_ind], color='k', linestyle=':') # add a vertical line at the best balanced accuracy\n",
    "    ax2.yaxis.set_tick_params(labelsize=14) # set the right y-axis tick label size\n",
    "    ax2.grid(True) # add a grid\n",
    "disp_imp = np.array(val_metrics['disp_imp']) # disparate impact (DI)\n",
    "disp_imp_err = 1 - disp_imp # calculate 1 - DI\n",
    "plot(thresh_arr, 'Classification Thresholds',\n",
    "     val_metrics['bal_acc'], 'Balanced Accuracy',\n",
    "     disp_imp_err, '1 - DI') # Plot balanced accuracy and 1-DI against the classification thresholds"
   ]
  },
  {
   "cell_type": "markdown",
   "id": "29120263",
   "metadata": {},
   "source": [
    ":::::::::::::::::::::::::::::::::::::: challenge\n",
    "\n",
    "### Interpreting the plot\n",
    "Answer the following questions:\n",
    "\n",
    "1. When the classification threshold is 0.1, what is the (approximate) accuracy and 1-DI score? What about when the classification threshold is 0.5? \n",
    "\n",
    "2. If you were developing the model, what classification threshold would you choose based on this graph? Why?\n",
    "\n",
    "::::::::::::::::::::::::::::::::::::::::::::::::::\n",
    "\n",
    ":::::::::::::: solution\n",
    "### Solution\n",
    "\n",
    "1. Using a threshold of 0.1, the accuracy is about 0.71 and the 1-DI score is about 0.71. Using a threshold of 0.5, the accuracy is about 0.69 and the 1-DI score is about 0.79.\n",
    "\n",
    "2. The optimal accuracy occurs with a threshold of 0.19 (indicated by the dotted vertical line). However, the disparate impact is quite bad at this threshold. Choosing a slightly smaller threshold, e.g., around 0.15, yields similarly high-accuracy and is slightly fairer. However, there's no \"good\" outcome here: whenever the accuracy is near-optimal, the 1-DI score is high. If you were the model developer, you might want to consider interventions to improve the accuracy/fairness tradeoff, some of which we discuss below.\n",
    "\n",
    ":::::::::::::::::::::::::\n",
    "\n",
    "If you like, you can plot other metrics, e.g., average odds difference.\n",
    "\n",
    "In the next cell, we write a function to print out a variety of other metrics. Instead of considering disparate impact directly, we will consider 1 - disparate impact. Recall that a disparate impact of 0 is very bad, and 1 is perfect -- thus, considering 1 - disparate impact means that 0 is perfect and 1 is very bad, similar to the other metrics we consider. **I.e., all of these metrics have a value of 0 if they are perfectly fair**. \n",
    "\n",
    "We print the value of several metrics here for illustrative purposes (i.e., to see that multiple metrics are not able to be optimized simultaneously). In practice, when evaluating a model it is typical ot choose a single fairness metric to use based on the details of the situation. You can learn more details about the various metrics in the [AIF360 documentation](https://aif360.readthedocs.io/en/stable/modules/generated/aif360.metrics.ClassificationMetric.html#aif360.metrics.ClassificationMetric)."
   ]
  },
  {
   "cell_type": "code",
   "execution_count": null,
   "id": "194d715e",
   "metadata": {},
   "outputs": [],
   "source": [
    "def describe_metrics(metrics: dict, thresh_arr: np.ndarray) -> None:\n",
    "    '''\n",
    "        Given a dictionary of metrics and a list of potential cutoff thresholds, print the best\n",
    "        threshold (based on 'bal_acc' balanced accuracy dictionary entry) and the corresponding\n",
    "        values of other metrics at the selected threshold.\n",
    "    '''\n",
    "    best_ind = np.argmax(metrics['bal_acc']) # get the index of the best balanced accuracy\n",
    "    print(\"Threshold corresponding to Best balanced accuracy: {:6.4f}\".format(thresh_arr[best_ind]))\n",
    "    print(\"Best balanced accuracy: {:6.4f}\".format(metrics['bal_acc'][best_ind]))\n",
    "    disp_imp_at_best_ind = 1 - metrics['disp_imp'][best_ind] # calculate 1 - DI at the best index\n",
    "    print(\"\\nCorresponding 1-DI value: {:6.4f}\".format(disp_imp_at_best_ind))\n",
    "    print(\"Corresponding average odds difference value: {:6.4f}\".format(metrics['avg_odds_diff'][best_ind]))\n",
    "    print(\"Corresponding statistical parity difference value: {:6.4f}\".format(metrics['stat_par_diff'][best_ind]))\n",
    "    print(\"Corresponding equal opportunity difference value: {:6.4f}\".format(metrics['eq_opp_diff'][best_ind]))\n",
    "    print(\"Corresponding Theil index value: {:6.4f}\".format(metrics['theil_ind'][best_ind]))\n",
    "\n",
    "describe_metrics(val_metrics, thresh_arr) # call the function"
   ]
  },
  {
   "cell_type": "markdown",
   "id": "3c3de8d2",
   "metadata": {},
   "source": [
    "### Test the model\n",
    "\n",
    "Now that we have used the validation data to select the best threshold, we will evaluate the test the model on the test data."
   ]
  },
  {
   "cell_type": "code",
   "execution_count": null,
   "id": "eb8605f7",
   "metadata": {},
   "outputs": [],
   "source": [
    "lr_metrics = test(dataset=dataset_orig_panel19_test,\n",
    "                       model=lr_orig_panel19,\n",
    "                       thresh_arr=[thresh_arr[lr_orig_best_ind]]) # call our function \"test\" with the test data and lr model\n",
    "describe_metrics(lr_metrics, [thresh_arr[lr_orig_best_ind]]) # print the metrics for the test data"
   ]
  },
  {
   "cell_type": "markdown",
   "id": "9382f5b3",
   "metadata": {},
   "source": [
    "## Mitigate bias with in-processing\n",
    "\n",
    "We will use reweighting as an in-processing step to try to increase fairness. AIF360 has a function that performs reweighting that we will use. If you're interested, you can look at details about how it works in [the documentation](https://aif360.readthedocs.io/en/latest/modules/generated/aif360.algorithms.preprocessing.Reweighing.html). \n",
    "\n",
    "If you look at the documentation, you will see that AIF360 classifies reweighting as a preprocessing, not an in-processing intervention. Technically, AIF360's implementation modifies the dataset, not the learning algorithm so it is pre-processing. But, it is functionally equivalent to modifying the learning algorithm's loss function, so we follow the convention of the fair ML field and call it in-processing."
   ]
  },
  {
   "cell_type": "code",
   "execution_count": null,
   "id": "a5ec1331",
   "metadata": {},
   "outputs": [],
   "source": [
    "from aif360.algorithms.preprocessing import Reweighing"
   ]
  },
  {
   "cell_type": "code",
   "execution_count": null,
   "id": "f5379292",
   "metadata": {},
   "outputs": [],
   "source": [
    "# Reweighting is a AIF360 class to reweight the data \n",
    "RW = Reweighing(unprivileged_groups=unprivileged_groups,\n",
    "                privileged_groups=privileged_groups) # create a Reweighing object with the unprivileged and privileged groups\n",
    "dataset_transf_panel19_train = RW.fit_transform(dataset_orig_panel19_train) # reweight the training data"
   ]
  },
  {
   "cell_type": "markdown",
   "id": "a991dd7d",
   "metadata": {},
   "source": [
    "We'll also define metrics for the reweighted data and print out the disparate impact of the dataset."
   ]
  },
  {
   "cell_type": "code",
   "execution_count": null,
   "id": "24013c7a",
   "metadata": {},
   "outputs": [],
   "source": [
    "metric_transf_panel19_train = BinaryLabelDatasetMetric(\n",
    "        dataset_transf_panel19_train, # use train data\n",
    "        unprivileged_groups=unprivileged_groups, # pass in unprivileged and privileged groups\n",
    "        privileged_groups=privileged_groups)\n",
    "explainer_transf_panel19_train = MetricTextExplainer(metric_transf_panel19_train) # create a MetricTextExplainer object\n",
    "\n",
    "print(explainer_transf_panel19_train.disparate_impact()) # print disparate impact"
   ]
  },
  {
   "cell_type": "markdown",
   "id": "ed2ca8ff",
   "metadata": {},
   "source": [
    "Then, we'll train a model, validate it, and evaluate of the test data."
   ]
  },
  {
   "cell_type": "code",
   "execution_count": null,
   "id": "0c283b19",
   "metadata": {},
   "outputs": [],
   "source": [
    "# train\n",
    "dataset = dataset_transf_panel19_train  # use the reweighted training data\n",
    "model = make_pipeline(StandardScaler(),\n",
    "                      LogisticRegression(solver='liblinear', random_state=1)) # model pipeline\n",
    "fit_params = {'logisticregression__sample_weight': dataset.instance_weights}\n",
    "lr_transf_panel19 = model.fit(dataset.features, dataset.labels.ravel(), **fit_params) # fit the model"
   ]
  },
  {
   "cell_type": "code",
   "execution_count": null,
   "id": "e40227b4",
   "metadata": {},
   "outputs": [],
   "source": [
    "# validate\n",
    "thresh_arr = np.linspace(0.01, 0.5, 50) # check 50 thresholds between 0.01 and 0.5\n",
    "val_metrics = test(dataset=dataset_orig_panel19_val,\n",
    "                   model=lr_transf_panel19,\n",
    "                   thresh_arr=thresh_arr) # call our function \"test\" with the validation data and lr model\n",
    "lr_transf_best_ind = np.argmax(val_metrics['bal_acc']) # get the index of the best balanced accuracy"
   ]
  },
  {
   "cell_type": "code",
   "execution_count": null,
   "id": "9d73009d",
   "metadata": {},
   "outputs": [],
   "source": [
    "# plot validation results\n",
    "disp_imp = np.array(val_metrics['disp_imp']) # get the disparate impact values\n",
    "disp_imp_err = 1 - np.minimum(disp_imp, 1/disp_imp) # calculate 1 - min(DI, 1/DI)\n",
    "plot(thresh_arr, # use the classification thresholds as the x-axis\n",
    "     'Classification Thresholds', \n",
    "     val_metrics['bal_acc'],  # plot accuracy on the first y-axis\n",
    "     'Balanced Accuracy', \n",
    "     disp_imp_err, # plot 1 - min(DI, 1/DI) on the second y-axis\n",
    "     '1 - min(DI, 1/DI)'\n",
    "     )"
   ]
  },
  {
   "cell_type": "code",
   "execution_count": null,
   "id": "6bbbd9f3",
   "metadata": {},
   "outputs": [],
   "source": [
    "describe_metrics(val_metrics, thresh_arr) # describe validation results"
   ]
  },
  {
   "cell_type": "markdown",
   "id": "0315aac3",
   "metadata": {},
   "source": [
    "### Test"
   ]
  },
  {
   "cell_type": "code",
   "execution_count": null,
   "id": "b226fc7a",
   "metadata": {},
   "outputs": [],
   "source": [
    "lr_transf_metrics = test(dataset=dataset_orig_panel19_test,\n",
    "                         model=lr_transf_panel19,\n",
    "                         thresh_arr=[thresh_arr[lr_transf_best_ind]]) # call our function \"test\" with the test data and lr model\n",
    "describe_metrics(lr_transf_metrics, [thresh_arr[lr_transf_best_ind]]) # describe test results"
   ]
  },
  {
   "cell_type": "markdown",
   "id": "8fb38a1f",
   "metadata": {},
   "source": [
    "We see that the disparate impact score on the test data is better after reweighting than it was originally.\n",
    "\n",
    "How do the other fairness metrics compare?\n",
    "\n",
    "\n",
    "## Mitigate bias with preprocessing\n",
    "\n",
    "We will use a method, [ThresholdOptimizer](https://fairlearn.org/main/api_reference/generated/fairlearn.postprocessing.ThresholdOptimizer.html#fairlearn.postprocessing.ThresholdOptimizer), that is implemented in the library [Fairlearn](https://fairlearn.org/). ThresholdOptimizer finds custom thresholds for each demographic group so as to achieve parity in the desired group fairness metric.\n",
    "\n",
    "We will focus on demographic parity, but feel free to try other metrics if you're curious on how it does.\n",
    "\n",
    "The first step is creating the ThresholdOptimizer object. We pass in the demographic parity constraint, and indicate that we would like to optimize the balanced accuracy score (other options include accuracy, and true or false positive rate -- see [the documentation](https://fairlearn.org/main/api_reference/generated/fairlearn.postprocessing.ThresholdOptimizer.html#fairlearn.postprocessing.ThresholdOptimizer) for more details)."
   ]
  },
  {
   "cell_type": "code",
   "execution_count": null,
   "id": "98380eba",
   "metadata": {},
   "outputs": [],
   "source": [
    "from fairlearn.postprocessing import ThresholdOptimizer # import ThresholdOptimizer"
   ]
  },
  {
   "cell_type": "code",
   "execution_count": null,
   "id": "ce6c59b2",
   "metadata": {},
   "outputs": [],
   "source": [
    "# create a ThresholdOptimizer object\n",
    "to = ThresholdOptimizer(estimator=model, \n",
    "                        constraints=\"demographic_parity\", # set the constraint to demographic parity\n",
    "                        objective=\"balanced_accuracy_score\", # optimize for balanced accuracy\n",
    "                        prefit=True)"
   ]
  },
  {
   "cell_type": "markdown",
   "id": "d7df746a",
   "metadata": {},
   "source": [
    "Next, we fit the ThresholdOptimizer object to the validation data."
   ]
  },
  {
   "cell_type": "code",
   "execution_count": null,
   "id": "6bf5b7bf",
   "metadata": {},
   "outputs": [],
   "source": [
    "to.fit(dataset_orig_panel19_val.features, dataset_orig_panel19_val.labels, \n",
    "       sensitive_features=dataset_orig_panel19_val.protected_attributes[:,0]) # fit the ThresholdOptimizer object"
   ]
  },
  {
   "cell_type": "markdown",
   "id": "d483fc67",
   "metadata": {},
   "source": [
    "Then, we'll create a helper function, `mini_test` to allow us to call the `describe_metrics` function even though we are no longer evaluating our method as a variety of thresholds.\n",
    "\n",
    "After that, we call the ThresholdOptimizer's predict function on the validation and test data, and then compute metrics and print the results."
   ]
  },
  {
   "cell_type": "code",
   "execution_count": null,
   "id": "9ce0e264",
   "metadata": {},
   "outputs": [],
   "source": [
    "def mini_test(dataset:MEPSDataset19, preds:np.ndarray) -> dict:\n",
    "    '''\n",
    "        Given a dataset and predictions, compute various metrics for the model. Returns a dictionary of the metrics,\n",
    "        including balanced accuracy, average odds difference, disparate impact, statistical parity difference, equal\n",
    "        opportunity difference, and theil index.\n",
    "    '''\n",
    "    metric_arrs = defaultdict(list)\n",
    "    dataset_pred = dataset.copy()\n",
    "    dataset_pred.labels = preds\n",
    "    metric = ClassificationMetric(\n",
    "            dataset, dataset_pred,\n",
    "            unprivileged_groups=unprivileged_groups,\n",
    "            privileged_groups=privileged_groups)\n",
    "\n",
    "    # various metrics - can look up what they are on your own\n",
    "    metric_arrs['bal_acc'].append((metric.true_positive_rate()\n",
    "                                    + metric.true_negative_rate()) / 2)\n",
    "    metric_arrs['avg_odds_diff'].append(metric.average_odds_difference())\n",
    "    metric_arrs['disp_imp'].append(metric.disparate_impact())\n",
    "    metric_arrs['stat_par_diff'].append(metric.statistical_parity_difference())\n",
    "    metric_arrs['eq_opp_diff'].append(metric.equal_opportunity_difference())\n",
    "    metric_arrs['theil_ind'].append(metric.theil_index())\n",
    "    \n",
    "    return metric_arrs"
   ]
  },
  {
   "cell_type": "code",
   "execution_count": null,
   "id": "6881d5e3",
   "metadata": {},
   "outputs": [],
   "source": [
    "# get predictions for validation dataset using the ThresholdOptimizer\n",
    "to_val_preds = to.predict(dataset_orig_panel19_val.features, \n",
    "                          sensitive_features=dataset_orig_panel19_val.protected_attributes[:,0])\n",
    "\n",
    "# get predictions for test dataset using the ThresholdOptimizer\n",
    "to_test_preds = to.predict(dataset_orig_panel19_test.features, \n",
    "                           sensitive_features=dataset_orig_panel19_test.protected_attributes[:,0])"
   ]
  },
  {
   "cell_type": "code",
   "execution_count": null,
   "id": "04d8a75a",
   "metadata": {},
   "outputs": [],
   "source": [
    "to_val_metrics = mini_test(dataset_orig_panel19_val, to_val_preds) # compute metrics for the validation set\n",
    "to_test_metrics = mini_test(dataset_orig_panel19_test, to_test_preds) # compute metrics for the test set"
   ]
  },
  {
   "cell_type": "code",
   "execution_count": null,
   "id": "184740e9",
   "metadata": {},
   "outputs": [],
   "source": [
    "print(\"Remember, `Threshold corresponding to Best balanced accuracy` is just a placeholder here.\")\n",
    "describe_metrics(to_val_metrics, [0]) # check accuracy (ignore other metrics for now)"
   ]
  },
  {
   "cell_type": "code",
   "execution_count": null,
   "id": "bb9ee6c5",
   "metadata": {},
   "outputs": [],
   "source": [
    "print(\"Remember, `Threshold corresponding to Best balanced accuracy` is just a placeholder here.\")\n",
    "\n",
    "describe_metrics(to_test_metrics, [0]) # check accuracy (ignore other metrics for now)"
   ]
  },
  {
   "cell_type": "markdown",
   "id": "79c72808",
   "metadata": {},
   "source": [
    "Scroll up and see how these results compare with the original classifier and with the in-processing technique. \n",
    "\n",
    "A major difference is that the accuracy is lower, now. In practice, it might be better to use an algorithm that allows a custom tradeoff between the accuracy sacrifice and increased levels of fairness.\n",
    "\n",
    "We can also see what threshold is being used for each demographic group by examining the `interpolated_thresholder_.interpretation_dict` property of the ThresholdOptimzer."
   ]
  },
  {
   "cell_type": "code",
   "execution_count": null,
   "id": "9ac1164e",
   "metadata": {},
   "outputs": [],
   "source": [
    "threshold_rules_by_group = to.interpolated_thresholder_.interpolation_dict # get the threshold rules by group\n",
    "threshold_rules_by_group # print the threshold rules by group"
   ]
  },
  {
   "cell_type": "markdown",
   "id": "e5645bf6",
   "metadata": {},
   "source": [
    "Recall that a value of 1 in the Race column corresponds to White people, while a value of 0 corresponds to non-White people.\n",
    "\n",
    "Due to the inherent randomness of the ThresholdOptimizer, you might get slightly different results than your neighbors. When we ran the previous cell, the output was\n",
    "\n",
    "`\n",
    "{0.0: {'p0': 0.9287205987170348,\n",
    "  'operation0': [>0.5],\n",
    "  'p1': 0.07127940128296517,\n",
    "  'operation1': [>-inf]},\n",
    " 1.0: {'p0': 0.002549618320610717,\n",
    "  'operation0': [>inf],\n",
    "  'p1': 0.9974503816793893,\n",
    "  'operation1': [>0.5]}}\n",
    "`\n",
    "\n",
    "This tells us that for non-White individuals:\n",
    "\n",
    "* If the score is above 0.5, predict 1. \n",
    "\n",
    "* Otherwise, predict 1 with probability 0.071\n",
    "\n",
    "And for White individuals:\n",
    "\n",
    "* If the score is above 0.5, predict 1 with probability 0.997\n",
    "\n",
    ":::::::::::::::::::::::::::::::::::::: challenge\n",
    "\n",
    "### Discuss\n",
    "What are the pros and cons of improving the model fairness by introducing randomization?\n",
    "\n",
    "::::::::::::::::::::::::::::::::::::::::::::::::::\n",
    "\n",
    ":::::::::::::: solution\n",
    "\n",
    "### Solution\n",
    "\n",
    "**Pros:** Randomization can be effective at increasing fairness. \n",
    "\n",
    "**Cons:** There is less predictability and explainability in model outcomes. Even though model outputs are fair in aggregate according to a defined group fairness metric, decisions may feel unfair on an individual basis because similar individual (or even the same individual, at different times) are treated unequally. Randomization may not be appropriate in settings (e.g., medical diagnosis) where accuracy is paramount.\n",
    "\n",
    ":::::::::::::::::::::::::\n",
    "\n",
    "\n",
    "\n",
    "\n",
    "::::::::::::::::::::::::::::::::::::: keypoints \n",
    "\n",
    "- It's important to consider many dimensions of model performance: a single accuracy score is not sufficient.\n",
    "- There is no single definition of \"fair machine learning\": different notions of fairness are appropriate in different contexts.\n",
    "- Representational harms and stereotypes can be perpetuated by generative AI.\n",
    "- The fairness of a model can be improved by using techniques like data reweighting and model postprocessing.\n",
    "\n",
    "::::::::::::::::::::::::::::::::::::::::::::::::"
   ]
  }
 ],
 "metadata": {},
 "nbformat": 4,
 "nbformat_minor": 5
}
