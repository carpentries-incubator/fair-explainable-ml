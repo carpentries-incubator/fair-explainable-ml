{
  "nbformat": 4,
  "nbformat_minor": 0,
  "metadata": {
    "colab": {
      "provenance": [],
      "gpuType": "T4"
    },
    "kernelspec": {
      "name": "python3",
      "display_name": "Python 3"
    },
    "language_info": {
      "name": "python"
    },
    "accelerator": "GPU"
  },
  "cells": [
    {
      "cell_type": "markdown",
      "source": [
        "---\n",
        "title: \"OOD Detection: Training-Time Regularization\"\n",
        "teaching: 0\n",
        "exercises: 0\n",
        "---"
      ],
      "metadata": {
        "id": "JVTw2HExPXHz"
      }
    },
    {
      "cell_type": "markdown",
      "source": [
        "### Questions\n",
        "- What are the key considerations when designing algorithms for OOD detection?\n",
        "- How can OOD detection be incorporated into the loss functions of models?\n",
        "- What are the challenges and best practices for training models with OOD detection capabilities?"
      ],
      "metadata": {
        "id": "4Kmnv3SfbJzY"
      }
    },
    {
      "cell_type": "markdown",
      "source": [
        "### Objectives\n",
        "- Understand the critical design considerations for creating effective OOD detection algorithms.\n",
        "- Learn how to integrate OOD detection into the loss functions of machine learning models.\n",
        "- Identify the challenges in training models with OOD detection and explore best practices to overcome these challenges."
      ],
      "metadata": {
        "id": "3ci1vysfRdUo"
      }
    },
    {
      "cell_type": "markdown",
      "source": [
        "# Training-time regularization for OOD detection"
      ],
      "metadata": {
        "id": "uZn6oCV2aOx9"
      }
    }
  ]
}